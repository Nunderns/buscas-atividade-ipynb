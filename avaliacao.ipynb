{
 "cells": [
  {
   "cell_type": "code",
   "execution_count": 1,
   "id": "5779f62b",
   "metadata": {},
   "outputs": [],
   "source": [
    "class Vertice:\n",
    "    def __init__(self, nome, heuristica=0):\n",
    "        self.nome = nome\n",
    "        self.heuristica = heuristica\n",
    "        self.adjacentes = []\n",
    "\n",
    "    def adiciona_adjacente(self, adjacente):\n",
    "        self.adjacentes.append(adjacente)"
   ]
  },
  {
   "cell_type": "code",
   "execution_count": 2,
   "id": "48c9bfab",
   "metadata": {},
   "outputs": [],
   "source": [
    "class Adjacente:\n",
    "    def __init__(self, vertice, custo):\n",
    "        self.vertice = vertice\n",
    "        self.custo = custo\n"
   ]
  },
  {
   "cell_type": "code",
   "execution_count": null,
   "id": "b554918c",
   "metadata": {},
   "outputs": [],
   "source": [
    "class Grafo:\n",
    "    def __init__(self):\n",
    "        self.arad = Vertice(\"Arad\", 350)\n",
    "        self.sibiu = Vertice(\"Sibiu\", 253)\n",
    "        self.pitesti = Vertice(\"Pitesti\", 100)\n",
    "        self.craiova = Vertice(\"Craiova\", 160)\n",
    "        self.bucharest = Vertice(\"Bucharest\", 0)\n",
    "\n",
    "        self.arad.adiciona_adjacente(Adjacente(self.sibiu, 140))\n",
    "        self.arad.adiciona_adjacente(Adjacente(self.craiova, 250))\n",
    "\n",
    "        self.sibiu.adiciona_adjacente(Adjacente(self.arad, 140))\n",
    "        self.sibiu.adiciona_adjacente(Adjacente(self.pitesti, 180))\n",
    "        self.sibiu.adiciona_adjacente(Adjacente(self.bucharest, 210))\n",
    "\n",
    "        self.pitesti.adiciona_adjacente(Adjacente(self.sibiu, 180))\n",
    "        self.pitesti.adiciona_adjacente(Adjacente(self.craiova, 100))\n",
    "        self.pitesti.adiciona_adjacente(Adjacente(self.bucharest, 90))\n",
    "\n",
    "        self.craiova.adiciona_adjacente(Adjacente(self.arad, 250))\n",
    "        self.craiova.adiciona_adjacente(Adjacente(self.pitesti, 100))\n",
    "        self.craiova.adiciona_adjacente(Adjacente(self.bucharest, 160))\n",
    "\n",
    "        self.bucharest.adiciona_adjacente(Adjacente(self.sibiu, 210))\n",
    "        self.bucharest.adiciona_adjacente(Adjacente(self.pitesti, 90))\n",
    "        self.bucharest.adiciona_adjacente(Adjacente(self.craiova, 160))"
   ]
  },
  {
   "cell_type": "code",
   "execution_count": 7,
   "id": "547f1744",
   "metadata": {},
   "outputs": [],
   "source": [
    "def a_star_multientrega(grafo, inicio, entregas):\n",
    "    caminho = [inicio.nome]\n",
    "    custo_total = 0\n",
    "    atual = inicio\n",
    "    restantes = entregas[:]\n",
    "    while restantes:\n",
    "        proximo = restantes[0]\n",
    "        for adj in atual.adjacentes:\n",
    "            if adj.vertice == proximo:\n",
    "                custo_total += adj.custo\n",
    "                caminho.append(proximo.nome)\n",
    "                atual = proximo\n",
    "                restantes.remove(proximo)\n",
    "                break\n",
    "        else:\n",
    "            return None, float(\"inf\")\n",
    "\n",
    "    for adj in atual.adjacentes:\n",
    "        if adj.vertice == inicio:\n",
    "            custo_total += adj.custo\n",
    "            caminho.append(inicio.nome)\n",
    "            break\n",
    "\n",
    "    return caminho, custo_total\n"
   ]
  },
  {
   "cell_type": "code",
   "execution_count": 8,
   "id": "dd005041",
   "metadata": {},
   "outputs": [
    {
     "name": "stdout",
     "output_type": "stream",
     "text": [
      "Rota encontrada:\n",
      "Arad → Sibiu → Pitesti → Craiova → Bucharest\n",
      "Custo total: 580\n"
     ]
    }
   ],
   "source": [
    "grafo = Grafo()\n",
    "\n",
    "inicio = grafo.arad\n",
    "entregas = [grafo.sibiu, grafo.pitesti, grafo.craiova, grafo.bucharest]\n",
    "\n",
    "rota, custo = a_star_multientrega(grafo, inicio, entregas)\n",
    "\n",
    "print(\"Rota encontrada:\")\n",
    "print(\" → \".join(rota))\n",
    "print(f\"Custo total: {custo}\")"
   ]
  }
 ],
 "metadata": {
  "kernelspec": {
   "display_name": "venv",
   "language": "python",
   "name": "python3"
  },
  "language_info": {
   "codemirror_mode": {
    "name": "ipython",
    "version": 3
   },
   "file_extension": ".py",
   "mimetype": "text/x-python",
   "name": "python",
   "nbconvert_exporter": "python",
   "pygments_lexer": "ipython3",
   "version": "3.13.7"
  }
 },
 "nbformat": 4,
 "nbformat_minor": 5
}
