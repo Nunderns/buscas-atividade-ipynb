{
 "cells": [
  {
   "cell_type": "code",
   "execution_count": 1,
   "id": "7478a13d",
   "metadata": {},
   "outputs": [],
   "source": [
    "class vertice:\n",
    "    def __init__(self, rotulo):\n",
    "        self.rotulo = rotulo\n",
    "        self.visitado = False\n",
    "        self.adjacente = []\n",
    "        self.adjacente = []\n",
    "\n",
    "    def adiciona_adjacente(self, adjacente):\n",
    "        self.adjacente.append(adjacente)\n",
    "\n",
    "    def mostra_adjacente(self):\n",
    "        for adj in self.adjacente:\n",
    "            print(adj.vertice.rotulo, adj.custo)"
   ]
  },
  {
   "cell_type": "code",
   "execution_count": 2,
   "id": "fbbbbbd8",
   "metadata": {},
   "outputs": [],
   "source": [
    "class Adjacente:\n",
    "    def __init__(self, vertice, custo):\n",
    "        self.vertice = vertice\n",
    "        self.custo = custo"
   ]
  },
  {
   "cell_type": "code",
   "execution_count": 7,
   "id": "ad1d6bc6",
   "metadata": {},
   "outputs": [],
   "source": [
    "class Grafo: \n",
    "\n",
    "    # Vertices\n",
    "    arad = vertice(\"Arad\")\n",
    "    zerind = vertice(\"Zerind\")\n",
    "    oradea = vertice(\"Oradea\")\n",
    "    sibiu = vertice(\"Sibiu\")\n",
    "    timisoara = vertice(\"Timisoara\")\n",
    "    lugoj = vertice(\"Lugoj\")\n",
    "    mehadia = vertice(\"Mehadia\")\n",
    "    drobeta = vertice(\"Drobeta\")\n",
    "    craiova = vertice(\"Craiova\")\n",
    "    rimnicu_vilcea = vertice(\"Rimnicu Vilcea\")\n",
    "    fagaras = vertice(\"Fagaras\")\n",
    "    pitesti = vertice(\"Pitesti\")\n",
    "    bucharest = vertice(\"Bucharest\")\n",
    "    giurgiu = vertice(\"Giurgiu\")\n",
    "    urziceni = vertice(\"Urziceni\")\n",
    "    hirsova = vertice(\"Hirsova\")\n",
    "    eforie = vertice(\"Eforie\")\n",
    "    vaslui = vertice(\"Vaslui\")\n",
    "    iasi = vertice(\"Iasi\")\n",
    "    neamt = vertice(\"Neamt\")\n",
    "\n",
    "    # Arad\n",
    "    arad.adiciona_adjacente(Adjacente(zerind, 75))\n",
    "    arad.adiciona_adjacente(Adjacente(sibiu, 140))\n",
    "    arad.adiciona_adjacente(Adjacente(timisoara, 118))\n",
    "\n",
    "    # Zerind\n",
    "    zerind.adiciona_adjacente(Adjacente(arad, 75))\n",
    "    zerind.adiciona_adjacente(Adjacente(oradea, 71))\n",
    "\n",
    "    # Oradea\n",
    "    oradea.adiciona_adjacente(Adjacente(zerind, 71))\n",
    "    oradea.adiciona_adjacente(Adjacente(sibiu, 151))\n",
    "\n",
    "    # Sibiu\n",
    "    sibiu.adiciona_adjacente(Adjacente(arad, 140))\n",
    "    sibiu.adiciona_adjacente(Adjacente(oradea, 151))\n",
    "    sibiu.adiciona_adjacente(Adjacente(fagaras, 99))\n",
    "    sibiu.adiciona_adjacente(Adjacente(rimnicu_vilcea, 80))\n",
    "\n",
    "    # Timisoara\n",
    "    timisoara.adiciona_adjacente(Adjacente(arad, 118))\n",
    "    timisoara.adiciona_adjacente(Adjacente(lugoj, 111))\n",
    "\n",
    "    # Lugoj\n",
    "    lugoj.adiciona_adjacente(Adjacente(timisoara, 111))\n",
    "    lugoj.adiciona_adjacente(Adjacente(mehadia, 70))\n",
    "\n",
    "    # Mehadia\n",
    "    mehadia.adiciona_adjacente(Adjacente(lugoj, 70))\n",
    "    mehadia.adiciona_adjacente(Adjacente(drobeta, 75))\n",
    "\n",
    "    # Drobeta\n",
    "    drobeta.adiciona_adjacente(Adjacente(mehadia, 75))\n",
    "    drobeta.adiciona_adjacente(Adjacente(craiova, 120))\n",
    "\n",
    "    # Craiova\n",
    "    craiova.adiciona_adjacente(Adjacente(drobeta, 120))\n",
    "    craiova.adiciona_adjacente(Adjacente(rimnicu_vilcea, 146))\n",
    "    craiova.adiciona_adjacente(Adjacente(pitesti, 138))\n",
    "\n",
    "    # Rimnicu Vilcea\n",
    "    rimnicu_vilcea.adiciona_adjacente(Adjacente(sibiu, 80))\n",
    "    rimnicu_vilcea.adiciona_adjacente(Adjacente(craiova, 146))\n",
    "    rimnicu_vilcea.adiciona_adjacente(Adjacente(pitesti, 97))\n",
    "\n",
    "    # Fagaras\n",
    "    fagaras.adiciona_adjacente(Adjacente(sibiu, 99))\n",
    "    fagaras.adiciona_adjacente(Adjacente(bucharest, 211))\n",
    "\n",
    "    # Pitesti\n",
    "    pitesti.adiciona_adjacente(Adjacente(rimnicu_vilcea, 97))\n",
    "    pitesti.adiciona_adjacente(Adjacente(craiova, 138))\n",
    "    pitesti.adiciona_adjacente(Adjacente(bucharest, 101))\n",
    "\n",
    "    # Bucharest\n",
    "    bucharest.adiciona_adjacente(Adjacente(fagaras, 211))\n",
    "    bucharest.adiciona_adjacente(Adjacente(pitesti, 101))\n",
    "    bucharest.adiciona_adjacente(Adjacente(giurgiu, 90))\n",
    "    bucharest.adiciona_adjacente(Adjacente(urziceni, 85))\n",
    "\n",
    "    # Giurgiu\n",
    "    giurgiu.adiciona_adjacente(Adjacente(bucharest, 90))\n",
    "\n",
    "    # Urziceni\n",
    "    urziceni.adiciona_adjacente(Adjacente(bucharest, 85))\n",
    "    urziceni.adiciona_adjacente(Adjacente(hirsova, 98))\n",
    "    urziceni.adiciona_adjacente(Adjacente(vaslui, 142))\n",
    "\n",
    "    # Hirsova\n",
    "    hirsova.adiciona_adjacente(Adjacente(urziceni, 98))\n",
    "    hirsova.adiciona_adjacente(Adjacente(eforie, 86))\n",
    "\n",
    "    # Eforie\n",
    "    eforie.adiciona_adjacente(Adjacente(hirsova, 86))\n",
    "\n",
    "    # Vaslui\n",
    "    vaslui.adiciona_adjacente(Adjacente(urziceni, 142))\n",
    "    vaslui.adiciona_adjacente(Adjacente(iasi, 92))\n",
    "\n",
    "    # Iasi\n",
    "    iasi.adiciona_adjacente(Adjacente(vaslui, 92))\n",
    "    iasi.adiciona_adjacente(Adjacente(neamt, 87))\n",
    "\n",
    "    # Neamt\n",
    "    neamt.adiciona_adjacente(Adjacente(iasi, 87))"
   ]
  },
  {
   "cell_type": "code",
   "execution_count": 8,
   "id": "ef8cdaa2",
   "metadata": {},
   "outputs": [
    {
     "name": "stdout",
     "output_type": "stream",
     "text": [
      "Zerind 75\n",
      "Sibiu 140\n",
      "Timisoara 118\n"
     ]
    }
   ],
   "source": [
    "grafo = Grafo()\n",
    "grafo.arad.mostra_adjacente()"
   ]
  },
  {
   "cell_type": "code",
   "execution_count": 9,
   "id": "8d2e4fe8",
   "metadata": {},
   "outputs": [
    {
     "name": "stdout",
     "output_type": "stream",
     "text": [
      "Fagaras 211\n",
      "Pitesti 101\n",
      "Giurgiu 90\n",
      "Urziceni 85\n"
     ]
    }
   ],
   "source": [
    "grafo.bucharest.mostra_adjacente()"
   ]
  },
  {
   "cell_type": "code",
   "execution_count": 10,
   "id": "f3d8f9a2",
   "metadata": {},
   "outputs": [
    {
     "name": "stdout",
     "output_type": "stream",
     "text": [
      "Bucharest 85\n",
      "Hirsova 98\n",
      "Vaslui 142\n"
     ]
    }
   ],
   "source": [
    "grafo.urziceni.mostra_adjacente()"
   ]
  }
 ],
 "metadata": {
  "kernelspec": {
   "display_name": ".venv",
   "language": "python",
   "name": "python3"
  },
  "language_info": {
   "codemirror_mode": {
    "name": "ipython",
    "version": 3
   },
   "file_extension": ".py",
   "mimetype": "text/x-python",
   "name": "python",
   "nbconvert_exporter": "python",
   "pygments_lexer": "ipython3",
   "version": "3.13.7"
  }
 },
 "nbformat": 4,
 "nbformat_minor": 5
}
