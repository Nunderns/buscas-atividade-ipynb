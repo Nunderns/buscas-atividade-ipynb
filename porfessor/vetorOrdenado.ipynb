{
 "cells": [
  {
   "cell_type": "code",
   "execution_count": null,
   "id": "1e56347c",
   "metadata": {},
   "outputs": [],
   "source": [
    "import numpy as np"
   ]
  },
  {
   "cell_type": "code",
   "execution_count": null,
   "id": "41eee003",
   "metadata": {},
   "outputs": [],
   "source": []
  },
  {
   "cell_type": "code",
   "execution_count": null,
   "id": "e3abe102",
   "metadata": {},
   "outputs": [],
   "source": [
    "\n",
    "\n",
    "import numpy as np\n",
    "\n",
    "\n",
    "class VetorOrdenado:\n",
    "    def __init__(self, capacidade: int):\n",
    "        self.capacidade = capacidade\n",
    "        self.ultima_posicao = -1\n",
    "        self.valores = np.empty(self.capacidade, dtype=int)\n",
    "\n",
    "    def imprime(self):\n",
    "        if self.ultima_posicao == -1:\n",
    "            print(\"Vetor vazio\")\n",
    "            return\n",
    "        for i in range(self.ultima_posicao + 1):\n",
    "            print(i, \"-\", self.valores[i])\n",
    "\n",
    "    def insere(self, valor: int):\n",
    "        if self.ultima_posicao == self.capacidade - 1:\n",
    "            print(\"Capacidade máxima atingida\")\n",
    "            return\n",
    "\n",
    "        if self.ultima_posicao == -1:\n",
    "            posicao = 0\n",
    "        else:\n",
    "            posicao = self.ultima_posicao + 1\n",
    "            for i in range(self.ultima_posicao + 1):\n",
    "                if self.valores[i] > valor:\n",
    "                    posicao = i\n",
    "                    break\n",
    "\n",
    "        for i in range(self.ultima_posicao, posicao - 1, -1):\n",
    "            self.valores[i + 1] = self.valores[i]\n",
    "\n",
    "        self.valores[posicao] = valor\n",
    "        self.ultima_posicao += 1\n",
    "\n"
   ]
  }
 ],
 "metadata": {
  "kernelspec": {
   "display_name": ".venv",
   "language": "python",
   "name": "python3"
  },
  "language_info": {
   "name": "python",
   "version": "3.13.7"
  }
 },
 "nbformat": 4,
 "nbformat_minor": 5
}
